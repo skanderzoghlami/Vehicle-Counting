{
 "cells": [
  {
   "cell_type": "markdown",
   "id": "23e1cd7c",
   "metadata": {},
   "source": [
    "## Importing Libraries"
   ]
  },
  {
   "cell_type": "code",
   "execution_count": 11,
   "id": "43c61225",
   "metadata": {},
   "outputs": [],
   "source": [
    "import cv2\n",
    "import csv\n",
    "import collections\n",
    "import numpy as np\n",
    "from tracker import *"
   ]
  },
  {
   "cell_type": "markdown",
   "id": "cd474933",
   "metadata": {},
   "source": [
    "## Model Parameters"
   ]
  },
  {
   "cell_type": "code",
   "execution_count": 12,
   "id": "d98888c9",
   "metadata": {},
   "outputs": [
    {
     "name": "stdout",
     "output_type": "stream",
     "text": [
      "['person', 'bicycle', 'car', 'motorbike', 'aeroplane', 'bus', 'train', 'truck', 'boat', 'traffic light', 'fire hydrant', 'stop sign', 'parking meter', 'bench', 'bird', 'cat', 'dog', 'horse', 'sheep', 'cow', 'elephant', 'bear', 'zebra', 'giraffe', 'backpack', 'umbrella', 'handbag', 'tie', 'suitcase', 'frisbee', 'skis', 'snowboard', 'sports ball', 'kite', 'baseball bat', 'baseball glove', 'skateboard', 'surfboard', 'tennis racket', 'bottle', 'wine glass', 'cup', 'fork', 'knife', 'spoon', 'bowl', 'banana', 'apple', 'sandwich', 'orange', 'broccoli', 'carrot', 'hot dog', 'pizza', 'donut', 'cake', 'chair', 'sofa', 'pottedplant', 'bed', 'diningtable', 'toilet', 'tvmonitor', 'laptop', 'mouse', 'remote', 'keyboard', 'cell phone', 'microwave', 'oven', 'toaster', 'sink', 'refrigerator', 'book', 'clock', 'vase', 'scissors', 'teddy bear', 'hair drier', 'toothbrush', '>>>>>>> c91dd7980f88de76c049a0b501c7530b77180c8f']\n",
      "Coco has a number of classes of :  80\n"
     ]
    }
   ],
   "source": [
    "# YOLO expects an input size of 320\n",
    "input_size = 320\n",
    "# All the classes available in the COCO Dataset\n",
    "classesFile = \"coco.names\"\n",
    "classNames = open(classesFile).read().strip().split('\\n')\n",
    "print(classNames)\n",
    "print(\"Coco has a number of classes of : \",len(classNames)-1)\n",
    "\n",
    "# We can specify the classes we want yolo to predict\n",
    "required_class_index = [2, 3,  7]\n",
    "\n",
    "detected_classNames = []\n",
    "\n",
    "# Detection confidence threshold for tracking  and NMS threshold for bounding boxes\n",
    "confThreshold = 0.2\n",
    "nmsThreshold = 0.2\n",
    "\n",
    "# Text color and thickness\n",
    "font_color = (0, 0, 255)\n",
    "font_size = 0.5\n",
    "font_thickness = 2\n",
    "\n",
    "# Middle cross line position for counting\n",
    "middle_line_position = 225\n",
    "up_line_position = middle_line_position - 15\n",
    "down_line_position = middle_line_position + 15\n",
    "\n",
    "\n",
    "# Lists for vehicle count information storage\n",
    "temp_up_list = []\n",
    "temp_down_list = []\n",
    "up_list = [0, 0, 0, 0]\n",
    "down_list = [0, 0, 0, 0]"
   ]
  },
  {
   "cell_type": "code",
   "execution_count": 13,
   "id": "693c4380",
   "metadata": {},
   "outputs": [],
   "source": [
    "# Function to Draw Bounding boxes and add text for each object found\n",
    "def postProcess(outputs, img):\n",
    "    #  detected_classNames = all detected classes in a frame\n",
    "    global detected_classNames\n",
    "    height, width = img.shape[:2]\n",
    "    boxes = []\n",
    "    classIds = []\n",
    "    confidence_scores = []\n",
    "    detection = []\n",
    "    for output in outputs:\n",
    "        for det in output:\n",
    "            # We iterate through all the objects detected in each frame and get all the scores\n",
    "            scores = det[5:]\n",
    "            # We take the class and the confidence score of each detected object\n",
    "            classId = np.argmax(scores)\n",
    "            confidence = scores[classId]\n",
    "            # if it's in our list we add it to the list of boxes\n",
    "            if classId in required_class_index:\n",
    "                if confidence > confThreshold:     \n",
    "                    w, h = int(det[2]*width), int(det[3]*height)\n",
    "                    x, y = int((det[0]*width)-w/2), int((det[1]*height)-h/2)\n",
    "                    boxes.append([x, y, w, h])\n",
    "                    classIds.append(classId)\n",
    "                    confidence_scores.append(float(confidence))\n",
    "\n",
    "    # Apply Non-Max Suppression in the case of multiple bounding boxes in a single object\n",
    "    indices = cv2.dnn.NMSBoxes(\n",
    "        boxes, confidence_scores, confThreshold, nmsThreshold)\n",
    "    if len(indices) > 0:\n",
    "        for i in indices.flatten():\n",
    "            x, y, w, h = boxes[i][0], boxes[i][1], boxes[i][2], boxes[i][3]\n",
    "            # print(x,y,w,h)\n",
    "\n",
    "            color = [int(c) for c in colors[classIds[i]]]\n",
    "            name = classNames[classIds[i]]\n",
    "            detected_classNames.append(name)\n",
    "            # Draw classname and confidence score\n",
    "            cv2.putText(img, f'{name.upper()} {int(confidence_scores[i]*100)}%',\n",
    "                        (x, y-10), cv2.FONT_HERSHEY_SIMPLEX, 0.5, color, 1)\n",
    "\n",
    "            # Draw bounding rectangle\n",
    "            cv2.rectangle(img, (x, y), (x + w, y + h), color, 1)\n",
    "            detection.append(\n",
    "                [x, y, w, h, required_class_index.index(classIds[i])])\n",
    "\n",
    "    # Update the tracker for each object\n",
    "    boxes_ids = tracker.update(detection)\n",
    "    for box_id in boxes_ids:\n",
    "        count_vehicle(box_id, img)"
   ]
  },
  {
   "cell_type": "code",
   "execution_count": 14,
   "id": "ea664a73",
   "metadata": {},
   "outputs": [],
   "source": [
    "# Function to count the vehicle passing through the middle line\n",
    "def count_vehicle(box_id, img):\n",
    "\n",
    "    x, y, w, h, id, index = box_id\n",
    "\n",
    "    # Find the center of the rectangle for detection\n",
    "    center = find_center(x, y, w, h)\n",
    "    ix, iy = center\n",
    "\n",
    "    # Find the current position of the vehicle\n",
    "    if (iy > up_line_position) and (iy < middle_line_position):\n",
    "\n",
    "        if id not in temp_up_list:\n",
    "            temp_up_list.append(id)\n",
    "\n",
    "    elif iy < down_line_position and iy > middle_line_position:\n",
    "        if id not in temp_down_list:\n",
    "            temp_down_list.append(id)\n",
    "\n",
    "    elif iy < up_line_position:\n",
    "        if id in temp_down_list:\n",
    "            temp_down_list.remove(id)\n",
    "            up_list[index] = up_list[index]+1\n",
    "\n",
    "    elif iy > down_line_position:\n",
    "        if id in temp_up_list:\n",
    "            temp_up_list.remove(id)\n",
    "            down_list[index] = down_list[index] + 1\n",
    "\n",
    "    # Draw circle in the middle of the rectangle\n",
    "    cv2.circle(img, center, 2, (0, 0, 255), -1)  \n",
    "\n",
    "def find_center(x, y, w, h):\n",
    "    x1 = int(w/2)\n",
    "    y1 = int(h/2)\n",
    "    cx = x+x1\n",
    "    cy = y+y1\n",
    "    return cx, cy"
   ]
  },
  {
   "cell_type": "markdown",
   "id": "499f0d1b",
   "metadata": {},
   "source": [
    "## Vehicle Counting from an Image"
   ]
  },
  {
   "cell_type": "code",
   "execution_count": 18,
   "id": "7f7dc036",
   "metadata": {},
   "outputs": [
    {
     "name": "stdout",
     "output_type": "stream",
     "text": [
      "Counter({'car': 26, 'truck': 3})\n"
     ]
    }
   ],
   "source": [
    "image = 'img.jpg'\n",
    "detected_classNames=[]\n",
    "img = cv2.imread(image)\n",
    "blob = cv2.dnn.blobFromImage(\n",
    "        img, 1 / 255, (input_size, input_size), [0, 0, 0], 1, crop=False)\n",
    "\n",
    "tracker = EuclideanDistTracker()\n",
    "\n",
    "modelConfiguration = 'yolov3.cfg'\n",
    "modelWeigheights = 'yolov3.weights'\n",
    "net = cv2.dnn.readNetFromDarknet(modelConfiguration, modelWeigheights)\n",
    "net.setPreferableBackend(cv2.dnn.DNN_BACKEND_CUDA)\n",
    "net.setPreferableTarget(cv2.dnn.DNN_TARGET_CUDA)\n",
    "\n",
    "# Define random colour for each class\n",
    "np.random.seed(42)\n",
    "colors = np.random.randint(0, 255, size=(len(classNames), 3), dtype='uint8')\n",
    "\n",
    "net.setInput(blob)\n",
    "layersNames = net.getLayerNames()\n",
    "outputNames = [(layersNames[i - 1]) for i in net.getUnconnectedOutLayers()]\n",
    "outputs = net.forward(outputNames)\n",
    "postProcess(outputs, img)\n",
    "# count the frequency of detected classes\n",
    "frequency = collections.Counter(detected_classNames)\n",
    "print(frequency)\n",
    "# Draw counting texts in the frame\n",
    "cv2.putText(img, \"Car:        \"+str(frequency['car']), (20, 40),\n",
    "            cv2.FONT_HERSHEY_SIMPLEX, font_size, font_color, font_thickness)\n",
    "cv2.putText(img, \"Motorbike:  \"+str(frequency['motorbike']), (20, 60),\n",
    "            cv2.FONT_HERSHEY_SIMPLEX, font_size, font_color, font_thickness)\n",
    "cv2.putText(img, \"Truck:      \"+str(frequency['truck']), (20, 80),\n",
    "                cv2.FONT_HERSHEY_SIMPLEX, font_size, font_color, font_thickness)\n",
    "\n",
    "cv2.imshow(\"image\", img)\n",
    "\n",
    "cv2.waitKey(0)\n",
    "\n",
    "# save the data to a csv file\n",
    "with open(\"static-data.csv\", 'a') as f1:\n",
    "    cwriter = csv.writer(f1)\n",
    "    cwriter.writerow([image, frequency['car'], frequency['motorbike'],\n",
    "                         frequency['truck']])\n",
    "f1.close()\n"
   ]
  },
  {
   "cell_type": "code",
   "execution_count": null,
   "id": "c759581f",
   "metadata": {},
   "outputs": [],
   "source": []
  }
 ],
 "metadata": {
  "kernelspec": {
   "display_name": "Python 3 (ipykernel)",
   "language": "python",
   "name": "python3"
  },
  "language_info": {
   "codemirror_mode": {
    "name": "ipython",
    "version": 3
   },
   "file_extension": ".py",
   "mimetype": "text/x-python",
   "name": "python",
   "nbconvert_exporter": "python",
   "pygments_lexer": "ipython3",
   "version": "3.9.7"
  }
 },
 "nbformat": 4,
 "nbformat_minor": 5
}
